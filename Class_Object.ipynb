{
  "nbformat": 4,
  "nbformat_minor": 0,
  "metadata": {
    "colab": {
      "name": "Class Object.ipynb",
      "provenance": [],
      "authorship_tag": "ABX9TyO/dKxX/ochaw036kRa/cJf",
      "include_colab_link": true
    },
    "kernelspec": {
      "name": "python3",
      "display_name": "Python 3"
    },
    "language_info": {
      "name": "python"
    }
  },
  "cells": [
    {
      "cell_type": "markdown",
      "metadata": {
        "id": "view-in-github",
        "colab_type": "text"
      },
      "source": [
        "<a href=\"https://colab.research.google.com/github/paras-konverge/Class-and-Objects/blob/main/Class_Object.ipynb\" target=\"_parent\"><img src=\"https://colab.research.google.com/assets/colab-badge.svg\" alt=\"Open In Colab\"/></a>"
      ]
    },
    {
      "cell_type": "code",
      "execution_count": 2,
      "metadata": {
        "colab": {
          "base_uri": "https://localhost:8080/"
        },
        "id": "-UeqJGvdUy1S",
        "outputId": "50f71699-8a89-43de-aa9d-d64dbeefcf6a"
      },
      "outputs": [
        {
          "output_type": "stream",
          "name": "stdout",
          "text": [
            "Mounted at /content/MyDrive\n"
          ]
        }
      ],
      "source": [
        "from google.colab import drive\n",
        "drive.mount('/content/MyDrive')\n"
      ]
    },
    {
      "cell_type": "code",
      "source": [
        "%cd MyDrive/\n",
        "%ls"
      ],
      "metadata": {
        "id": "nL9lVIugVvvV"
      },
      "execution_count": null,
      "outputs": []
    },
    {
      "cell_type": "code",
      "source": [
        "class PartyAnimal:\n",
        "   x = 0\n",
        "   name = ''\n",
        "   def __init__(self, nam):\n",
        "     self.name = nam\n",
        "     print(self.name,'constructed')\n",
        "\n",
        "   def party(self) :\n",
        "     self.x = self.x + 1\n",
        "     print(self.name,'party count',self.x)"
      ],
      "metadata": {
        "id": "NFpnkx_3gGR2"
      },
      "execution_count": null,
      "outputs": []
    }
  ]
}